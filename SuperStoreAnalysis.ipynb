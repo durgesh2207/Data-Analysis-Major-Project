{
  "nbformat": 4,
  "nbformat_minor": 0,
  "metadata": {
    "colab": {
      "provenance": []
    },
    "kernelspec": {
      "name": "python3",
      "display_name": "Python 3"
    },
    "language_info": {
      "name": "python"
    }
  },
  "cells": [
    {
      "cell_type": "code",
      "execution_count": 26,
      "metadata": {
        "id": "3zwZEf4TWs_H"
      },
      "outputs": [],
      "source": [
        "import pandas as pd\n",
        "import matplotlib.pyplot as plt\n",
        "import seaborn as sns\n",
        "import numpy as np"
      ]
    },
    {
      "cell_type": "code",
      "source": [
        "dataset  = pd.read_excel('/content/Superstore_USA.xlsx')"
      ],
      "metadata": {
        "id": "eWAvc07fYv_c"
      },
      "execution_count": 27,
      "outputs": []
    },
    {
      "cell_type": "code",
      "source": [
        "dataset.head(10)"
      ],
      "metadata": {
        "colab": {
          "base_uri": "https://localhost:8080/",
          "height": 620
        },
        "id": "aHCEfutTZgbw",
        "outputId": "058c17fc-00cb-43e6-edec-c0cfe32adce6"
      },
      "execution_count": 28,
      "outputs": [
        {
          "output_type": "execute_result",
          "data": {
            "text/plain": [
              "   Row ID Order Priority  Discount  Unit Price  Shipping Cost  Customer ID  \\\n",
              "0   18606  Not Specified      0.01        2.88           0.50            2   \n",
              "1   20847           High      0.01        2.84           0.93            3   \n",
              "2   23086  Not Specified      0.03        6.68           6.15            3   \n",
              "3   23087  Not Specified      0.01        5.68           3.60            3   \n",
              "4   23088  Not Specified      0.00      205.99           2.50            3   \n",
              "5   23597         Medium      0.09       55.48          14.30            3   \n",
              "6   25549            Low      0.08      120.97          26.30            3   \n",
              "7   20228  Not Specified      0.02      500.98          26.00            5   \n",
              "8   19483            Low      0.08        6.48           6.81            5   \n",
              "9   24782           High      0.01       90.24           0.99            6   \n",
              "\n",
              "     Customer Name       Ship Mode Customer Segment Product Category  ...  \\\n",
              "0  Janice Fletcher     Regular Air        Corporate  Office Supplies  ...   \n",
              "1    Bonnie Potter     Express Air        Corporate  Office Supplies  ...   \n",
              "2    Bonnie Potter     Express Air        Corporate  Office Supplies  ...   \n",
              "3    Bonnie Potter     Regular Air        Corporate  Office Supplies  ...   \n",
              "4    Bonnie Potter     Express Air        Corporate       Technology  ...   \n",
              "5    Bonnie Potter     Express Air        Corporate  Office Supplies  ...   \n",
              "6    Bonnie Potter  Delivery Truck        Corporate       Technology  ...   \n",
              "7   Ronnie Proctor  Delivery Truck      Home Office        Furniture  ...   \n",
              "8   Ronnie Proctor     Regular Air      Home Office  Office Supplies  ...   \n",
              "9     Dwight Hwang     Regular Air      Home Office  Office Supplies  ...   \n",
              "\n",
              "    Region State or Province         City  Postal Code Order Date  Ship Date  \\\n",
              "0  Central          Illinois      Addison        60101 2012-05-28 2012-05-30   \n",
              "1     West        Washington    Anacortes        98221 2010-07-07 2010-07-08   \n",
              "2     West        Washington    Anacortes        98221 2011-07-27 2011-07-28   \n",
              "3     West        Washington    Anacortes        98221 2011-07-27 2011-07-28   \n",
              "4     West        Washington    Anacortes        98221 2011-07-27 2011-07-27   \n",
              "5     West        Washington    Anacortes        98221 2011-11-09 2011-11-11   \n",
              "6     West        Washington    Anacortes        98221 2013-07-01 2013-07-08   \n",
              "7     West        California  San Gabriel        91776 2010-12-13 2010-12-15   \n",
              "8     West        California  San Gabriel        91776 2012-05-12 2012-05-21   \n",
              "9     West        California     San Jose        95123 2011-05-26 2011-05-26   \n",
              "\n",
              "      Profit  Quantity ordered new    Sales Order ID  \n",
              "0     1.3200                     2     5.90    88525  \n",
              "1     4.5600                     4    13.01    88522  \n",
              "2   -47.6400                     7    49.92    88523  \n",
              "3   -30.5100                     7    41.64    88523  \n",
              "4   998.2023                     8  1446.67    88523  \n",
              "5  1388.0523                    37  2011.67    88524  \n",
              "6  1001.4453                    12  1451.37    88526  \n",
              "7  4390.3665                    12  6362.85    90193  \n",
              "8  -141.2600                    18   113.25    90197  \n",
              "9  1045.4673                    16  1515.17    90194  \n",
              "\n",
              "[10 rows x 24 columns]"
            ],
            "text/html": [
              "\n",
              "  <div id=\"df-11a95532-3f9d-44bf-91d8-0e833186ccc4\" class=\"colab-df-container\">\n",
              "    <div>\n",
              "<style scoped>\n",
              "    .dataframe tbody tr th:only-of-type {\n",
              "        vertical-align: middle;\n",
              "    }\n",
              "\n",
              "    .dataframe tbody tr th {\n",
              "        vertical-align: top;\n",
              "    }\n",
              "\n",
              "    .dataframe thead th {\n",
              "        text-align: right;\n",
              "    }\n",
              "</style>\n",
              "<table border=\"1\" class=\"dataframe\">\n",
              "  <thead>\n",
              "    <tr style=\"text-align: right;\">\n",
              "      <th></th>\n",
              "      <th>Row ID</th>\n",
              "      <th>Order Priority</th>\n",
              "      <th>Discount</th>\n",
              "      <th>Unit Price</th>\n",
              "      <th>Shipping Cost</th>\n",
              "      <th>Customer ID</th>\n",
              "      <th>Customer Name</th>\n",
              "      <th>Ship Mode</th>\n",
              "      <th>Customer Segment</th>\n",
              "      <th>Product Category</th>\n",
              "      <th>...</th>\n",
              "      <th>Region</th>\n",
              "      <th>State or Province</th>\n",
              "      <th>City</th>\n",
              "      <th>Postal Code</th>\n",
              "      <th>Order Date</th>\n",
              "      <th>Ship Date</th>\n",
              "      <th>Profit</th>\n",
              "      <th>Quantity ordered new</th>\n",
              "      <th>Sales</th>\n",
              "      <th>Order ID</th>\n",
              "    </tr>\n",
              "  </thead>\n",
              "  <tbody>\n",
              "    <tr>\n",
              "      <th>0</th>\n",
              "      <td>18606</td>\n",
              "      <td>Not Specified</td>\n",
              "      <td>0.01</td>\n",
              "      <td>2.88</td>\n",
              "      <td>0.50</td>\n",
              "      <td>2</td>\n",
              "      <td>Janice Fletcher</td>\n",
              "      <td>Regular Air</td>\n",
              "      <td>Corporate</td>\n",
              "      <td>Office Supplies</td>\n",
              "      <td>...</td>\n",
              "      <td>Central</td>\n",
              "      <td>Illinois</td>\n",
              "      <td>Addison</td>\n",
              "      <td>60101</td>\n",
              "      <td>2012-05-28</td>\n",
              "      <td>2012-05-30</td>\n",
              "      <td>1.3200</td>\n",
              "      <td>2</td>\n",
              "      <td>5.90</td>\n",
              "      <td>88525</td>\n",
              "    </tr>\n",
              "    <tr>\n",
              "      <th>1</th>\n",
              "      <td>20847</td>\n",
              "      <td>High</td>\n",
              "      <td>0.01</td>\n",
              "      <td>2.84</td>\n",
              "      <td>0.93</td>\n",
              "      <td>3</td>\n",
              "      <td>Bonnie Potter</td>\n",
              "      <td>Express Air</td>\n",
              "      <td>Corporate</td>\n",
              "      <td>Office Supplies</td>\n",
              "      <td>...</td>\n",
              "      <td>West</td>\n",
              "      <td>Washington</td>\n",
              "      <td>Anacortes</td>\n",
              "      <td>98221</td>\n",
              "      <td>2010-07-07</td>\n",
              "      <td>2010-07-08</td>\n",
              "      <td>4.5600</td>\n",
              "      <td>4</td>\n",
              "      <td>13.01</td>\n",
              "      <td>88522</td>\n",
              "    </tr>\n",
              "    <tr>\n",
              "      <th>2</th>\n",
              "      <td>23086</td>\n",
              "      <td>Not Specified</td>\n",
              "      <td>0.03</td>\n",
              "      <td>6.68</td>\n",
              "      <td>6.15</td>\n",
              "      <td>3</td>\n",
              "      <td>Bonnie Potter</td>\n",
              "      <td>Express Air</td>\n",
              "      <td>Corporate</td>\n",
              "      <td>Office Supplies</td>\n",
              "      <td>...</td>\n",
              "      <td>West</td>\n",
              "      <td>Washington</td>\n",
              "      <td>Anacortes</td>\n",
              "      <td>98221</td>\n",
              "      <td>2011-07-27</td>\n",
              "      <td>2011-07-28</td>\n",
              "      <td>-47.6400</td>\n",
              "      <td>7</td>\n",
              "      <td>49.92</td>\n",
              "      <td>88523</td>\n",
              "    </tr>\n",
              "    <tr>\n",
              "      <th>3</th>\n",
              "      <td>23087</td>\n",
              "      <td>Not Specified</td>\n",
              "      <td>0.01</td>\n",
              "      <td>5.68</td>\n",
              "      <td>3.60</td>\n",
              "      <td>3</td>\n",
              "      <td>Bonnie Potter</td>\n",
              "      <td>Regular Air</td>\n",
              "      <td>Corporate</td>\n",
              "      <td>Office Supplies</td>\n",
              "      <td>...</td>\n",
              "      <td>West</td>\n",
              "      <td>Washington</td>\n",
              "      <td>Anacortes</td>\n",
              "      <td>98221</td>\n",
              "      <td>2011-07-27</td>\n",
              "      <td>2011-07-28</td>\n",
              "      <td>-30.5100</td>\n",
              "      <td>7</td>\n",
              "      <td>41.64</td>\n",
              "      <td>88523</td>\n",
              "    </tr>\n",
              "    <tr>\n",
              "      <th>4</th>\n",
              "      <td>23088</td>\n",
              "      <td>Not Specified</td>\n",
              "      <td>0.00</td>\n",
              "      <td>205.99</td>\n",
              "      <td>2.50</td>\n",
              "      <td>3</td>\n",
              "      <td>Bonnie Potter</td>\n",
              "      <td>Express Air</td>\n",
              "      <td>Corporate</td>\n",
              "      <td>Technology</td>\n",
              "      <td>...</td>\n",
              "      <td>West</td>\n",
              "      <td>Washington</td>\n",
              "      <td>Anacortes</td>\n",
              "      <td>98221</td>\n",
              "      <td>2011-07-27</td>\n",
              "      <td>2011-07-27</td>\n",
              "      <td>998.2023</td>\n",
              "      <td>8</td>\n",
              "      <td>1446.67</td>\n",
              "      <td>88523</td>\n",
              "    </tr>\n",
              "    <tr>\n",
              "      <th>5</th>\n",
              "      <td>23597</td>\n",
              "      <td>Medium</td>\n",
              "      <td>0.09</td>\n",
              "      <td>55.48</td>\n",
              "      <td>14.30</td>\n",
              "      <td>3</td>\n",
              "      <td>Bonnie Potter</td>\n",
              "      <td>Express Air</td>\n",
              "      <td>Corporate</td>\n",
              "      <td>Office Supplies</td>\n",
              "      <td>...</td>\n",
              "      <td>West</td>\n",
              "      <td>Washington</td>\n",
              "      <td>Anacortes</td>\n",
              "      <td>98221</td>\n",
              "      <td>2011-11-09</td>\n",
              "      <td>2011-11-11</td>\n",
              "      <td>1388.0523</td>\n",
              "      <td>37</td>\n",
              "      <td>2011.67</td>\n",
              "      <td>88524</td>\n",
              "    </tr>\n",
              "    <tr>\n",
              "      <th>6</th>\n",
              "      <td>25549</td>\n",
              "      <td>Low</td>\n",
              "      <td>0.08</td>\n",
              "      <td>120.97</td>\n",
              "      <td>26.30</td>\n",
              "      <td>3</td>\n",
              "      <td>Bonnie Potter</td>\n",
              "      <td>Delivery Truck</td>\n",
              "      <td>Corporate</td>\n",
              "      <td>Technology</td>\n",
              "      <td>...</td>\n",
              "      <td>West</td>\n",
              "      <td>Washington</td>\n",
              "      <td>Anacortes</td>\n",
              "      <td>98221</td>\n",
              "      <td>2013-07-01</td>\n",
              "      <td>2013-07-08</td>\n",
              "      <td>1001.4453</td>\n",
              "      <td>12</td>\n",
              "      <td>1451.37</td>\n",
              "      <td>88526</td>\n",
              "    </tr>\n",
              "    <tr>\n",
              "      <th>7</th>\n",
              "      <td>20228</td>\n",
              "      <td>Not Specified</td>\n",
              "      <td>0.02</td>\n",
              "      <td>500.98</td>\n",
              "      <td>26.00</td>\n",
              "      <td>5</td>\n",
              "      <td>Ronnie Proctor</td>\n",
              "      <td>Delivery Truck</td>\n",
              "      <td>Home Office</td>\n",
              "      <td>Furniture</td>\n",
              "      <td>...</td>\n",
              "      <td>West</td>\n",
              "      <td>California</td>\n",
              "      <td>San Gabriel</td>\n",
              "      <td>91776</td>\n",
              "      <td>2010-12-13</td>\n",
              "      <td>2010-12-15</td>\n",
              "      <td>4390.3665</td>\n",
              "      <td>12</td>\n",
              "      <td>6362.85</td>\n",
              "      <td>90193</td>\n",
              "    </tr>\n",
              "    <tr>\n",
              "      <th>8</th>\n",
              "      <td>19483</td>\n",
              "      <td>Low</td>\n",
              "      <td>0.08</td>\n",
              "      <td>6.48</td>\n",
              "      <td>6.81</td>\n",
              "      <td>5</td>\n",
              "      <td>Ronnie Proctor</td>\n",
              "      <td>Regular Air</td>\n",
              "      <td>Home Office</td>\n",
              "      <td>Office Supplies</td>\n",
              "      <td>...</td>\n",
              "      <td>West</td>\n",
              "      <td>California</td>\n",
              "      <td>San Gabriel</td>\n",
              "      <td>91776</td>\n",
              "      <td>2012-05-12</td>\n",
              "      <td>2012-05-21</td>\n",
              "      <td>-141.2600</td>\n",
              "      <td>18</td>\n",
              "      <td>113.25</td>\n",
              "      <td>90197</td>\n",
              "    </tr>\n",
              "    <tr>\n",
              "      <th>9</th>\n",
              "      <td>24782</td>\n",
              "      <td>High</td>\n",
              "      <td>0.01</td>\n",
              "      <td>90.24</td>\n",
              "      <td>0.99</td>\n",
              "      <td>6</td>\n",
              "      <td>Dwight Hwang</td>\n",
              "      <td>Regular Air</td>\n",
              "      <td>Home Office</td>\n",
              "      <td>Office Supplies</td>\n",
              "      <td>...</td>\n",
              "      <td>West</td>\n",
              "      <td>California</td>\n",
              "      <td>San Jose</td>\n",
              "      <td>95123</td>\n",
              "      <td>2011-05-26</td>\n",
              "      <td>2011-05-26</td>\n",
              "      <td>1045.4673</td>\n",
              "      <td>16</td>\n",
              "      <td>1515.17</td>\n",
              "      <td>90194</td>\n",
              "    </tr>\n",
              "  </tbody>\n",
              "</table>\n",
              "<p>10 rows × 24 columns</p>\n",
              "</div>\n",
              "    <div class=\"colab-df-buttons\">\n",
              "\n",
              "  <div class=\"colab-df-container\">\n",
              "    <button class=\"colab-df-convert\" onclick=\"convertToInteractive('df-11a95532-3f9d-44bf-91d8-0e833186ccc4')\"\n",
              "            title=\"Convert this dataframe to an interactive table.\"\n",
              "            style=\"display:none;\">\n",
              "\n",
              "  <svg xmlns=\"http://www.w3.org/2000/svg\" height=\"24px\" viewBox=\"0 -960 960 960\">\n",
              "    <path d=\"M120-120v-720h720v720H120Zm60-500h600v-160H180v160Zm220 220h160v-160H400v160Zm0 220h160v-160H400v160ZM180-400h160v-160H180v160Zm440 0h160v-160H620v160ZM180-180h160v-160H180v160Zm440 0h160v-160H620v160Z\"/>\n",
              "  </svg>\n",
              "    </button>\n",
              "\n",
              "  <style>\n",
              "    .colab-df-container {\n",
              "      display:flex;\n",
              "      gap: 12px;\n",
              "    }\n",
              "\n",
              "    .colab-df-convert {\n",
              "      background-color: #E8F0FE;\n",
              "      border: none;\n",
              "      border-radius: 50%;\n",
              "      cursor: pointer;\n",
              "      display: none;\n",
              "      fill: #1967D2;\n",
              "      height: 32px;\n",
              "      padding: 0 0 0 0;\n",
              "      width: 32px;\n",
              "    }\n",
              "\n",
              "    .colab-df-convert:hover {\n",
              "      background-color: #E2EBFA;\n",
              "      box-shadow: 0px 1px 2px rgba(60, 64, 67, 0.3), 0px 1px 3px 1px rgba(60, 64, 67, 0.15);\n",
              "      fill: #174EA6;\n",
              "    }\n",
              "\n",
              "    .colab-df-buttons div {\n",
              "      margin-bottom: 4px;\n",
              "    }\n",
              "\n",
              "    [theme=dark] .colab-df-convert {\n",
              "      background-color: #3B4455;\n",
              "      fill: #D2E3FC;\n",
              "    }\n",
              "\n",
              "    [theme=dark] .colab-df-convert:hover {\n",
              "      background-color: #434B5C;\n",
              "      box-shadow: 0px 1px 3px 1px rgba(0, 0, 0, 0.15);\n",
              "      filter: drop-shadow(0px 1px 2px rgba(0, 0, 0, 0.3));\n",
              "      fill: #FFFFFF;\n",
              "    }\n",
              "  </style>\n",
              "\n",
              "    <script>\n",
              "      const buttonEl =\n",
              "        document.querySelector('#df-11a95532-3f9d-44bf-91d8-0e833186ccc4 button.colab-df-convert');\n",
              "      buttonEl.style.display =\n",
              "        google.colab.kernel.accessAllowed ? 'block' : 'none';\n",
              "\n",
              "      async function convertToInteractive(key) {\n",
              "        const element = document.querySelector('#df-11a95532-3f9d-44bf-91d8-0e833186ccc4');\n",
              "        const dataTable =\n",
              "          await google.colab.kernel.invokeFunction('convertToInteractive',\n",
              "                                                    [key], {});\n",
              "        if (!dataTable) return;\n",
              "\n",
              "        const docLinkHtml = 'Like what you see? Visit the ' +\n",
              "          '<a target=\"_blank\" href=https://colab.research.google.com/notebooks/data_table.ipynb>data table notebook</a>'\n",
              "          + ' to learn more about interactive tables.';\n",
              "        element.innerHTML = '';\n",
              "        dataTable['output_type'] = 'display_data';\n",
              "        await google.colab.output.renderOutput(dataTable, element);\n",
              "        const docLink = document.createElement('div');\n",
              "        docLink.innerHTML = docLinkHtml;\n",
              "        element.appendChild(docLink);\n",
              "      }\n",
              "    </script>\n",
              "  </div>\n",
              "\n",
              "\n",
              "<div id=\"df-a5efafc6-1d17-4c1c-b335-c89b652ca9b5\">\n",
              "  <button class=\"colab-df-quickchart\" onclick=\"quickchart('df-a5efafc6-1d17-4c1c-b335-c89b652ca9b5')\"\n",
              "            title=\"Suggest charts\"\n",
              "            style=\"display:none;\">\n",
              "\n",
              "<svg xmlns=\"http://www.w3.org/2000/svg\" height=\"24px\"viewBox=\"0 0 24 24\"\n",
              "     width=\"24px\">\n",
              "    <g>\n",
              "        <path d=\"M19 3H5c-1.1 0-2 .9-2 2v14c0 1.1.9 2 2 2h14c1.1 0 2-.9 2-2V5c0-1.1-.9-2-2-2zM9 17H7v-7h2v7zm4 0h-2V7h2v10zm4 0h-2v-4h2v4z\"/>\n",
              "    </g>\n",
              "</svg>\n",
              "  </button>\n",
              "\n",
              "<style>\n",
              "  .colab-df-quickchart {\n",
              "      --bg-color: #E8F0FE;\n",
              "      --fill-color: #1967D2;\n",
              "      --hover-bg-color: #E2EBFA;\n",
              "      --hover-fill-color: #174EA6;\n",
              "      --disabled-fill-color: #AAA;\n",
              "      --disabled-bg-color: #DDD;\n",
              "  }\n",
              "\n",
              "  [theme=dark] .colab-df-quickchart {\n",
              "      --bg-color: #3B4455;\n",
              "      --fill-color: #D2E3FC;\n",
              "      --hover-bg-color: #434B5C;\n",
              "      --hover-fill-color: #FFFFFF;\n",
              "      --disabled-bg-color: #3B4455;\n",
              "      --disabled-fill-color: #666;\n",
              "  }\n",
              "\n",
              "  .colab-df-quickchart {\n",
              "    background-color: var(--bg-color);\n",
              "    border: none;\n",
              "    border-radius: 50%;\n",
              "    cursor: pointer;\n",
              "    display: none;\n",
              "    fill: var(--fill-color);\n",
              "    height: 32px;\n",
              "    padding: 0;\n",
              "    width: 32px;\n",
              "  }\n",
              "\n",
              "  .colab-df-quickchart:hover {\n",
              "    background-color: var(--hover-bg-color);\n",
              "    box-shadow: 0 1px 2px rgba(60, 64, 67, 0.3), 0 1px 3px 1px rgba(60, 64, 67, 0.15);\n",
              "    fill: var(--button-hover-fill-color);\n",
              "  }\n",
              "\n",
              "  .colab-df-quickchart-complete:disabled,\n",
              "  .colab-df-quickchart-complete:disabled:hover {\n",
              "    background-color: var(--disabled-bg-color);\n",
              "    fill: var(--disabled-fill-color);\n",
              "    box-shadow: none;\n",
              "  }\n",
              "\n",
              "  .colab-df-spinner {\n",
              "    border: 2px solid var(--fill-color);\n",
              "    border-color: transparent;\n",
              "    border-bottom-color: var(--fill-color);\n",
              "    animation:\n",
              "      spin 1s steps(1) infinite;\n",
              "  }\n",
              "\n",
              "  @keyframes spin {\n",
              "    0% {\n",
              "      border-color: transparent;\n",
              "      border-bottom-color: var(--fill-color);\n",
              "      border-left-color: var(--fill-color);\n",
              "    }\n",
              "    20% {\n",
              "      border-color: transparent;\n",
              "      border-left-color: var(--fill-color);\n",
              "      border-top-color: var(--fill-color);\n",
              "    }\n",
              "    30% {\n",
              "      border-color: transparent;\n",
              "      border-left-color: var(--fill-color);\n",
              "      border-top-color: var(--fill-color);\n",
              "      border-right-color: var(--fill-color);\n",
              "    }\n",
              "    40% {\n",
              "      border-color: transparent;\n",
              "      border-right-color: var(--fill-color);\n",
              "      border-top-color: var(--fill-color);\n",
              "    }\n",
              "    60% {\n",
              "      border-color: transparent;\n",
              "      border-right-color: var(--fill-color);\n",
              "    }\n",
              "    80% {\n",
              "      border-color: transparent;\n",
              "      border-right-color: var(--fill-color);\n",
              "      border-bottom-color: var(--fill-color);\n",
              "    }\n",
              "    90% {\n",
              "      border-color: transparent;\n",
              "      border-bottom-color: var(--fill-color);\n",
              "    }\n",
              "  }\n",
              "</style>\n",
              "\n",
              "  <script>\n",
              "    async function quickchart(key) {\n",
              "      const quickchartButtonEl =\n",
              "        document.querySelector('#' + key + ' button');\n",
              "      quickchartButtonEl.disabled = true;  // To prevent multiple clicks.\n",
              "      quickchartButtonEl.classList.add('colab-df-spinner');\n",
              "      try {\n",
              "        const charts = await google.colab.kernel.invokeFunction(\n",
              "            'suggestCharts', [key], {});\n",
              "      } catch (error) {\n",
              "        console.error('Error during call to suggestCharts:', error);\n",
              "      }\n",
              "      quickchartButtonEl.classList.remove('colab-df-spinner');\n",
              "      quickchartButtonEl.classList.add('colab-df-quickchart-complete');\n",
              "    }\n",
              "    (() => {\n",
              "      let quickchartButtonEl =\n",
              "        document.querySelector('#df-a5efafc6-1d17-4c1c-b335-c89b652ca9b5 button');\n",
              "      quickchartButtonEl.style.display =\n",
              "        google.colab.kernel.accessAllowed ? 'block' : 'none';\n",
              "    })();\n",
              "  </script>\n",
              "</div>\n",
              "\n",
              "    </div>\n",
              "  </div>\n"
            ],
            "application/vnd.google.colaboratory.intrinsic+json": {
              "type": "dataframe",
              "variable_name": "dataset"
            }
          },
          "metadata": {},
          "execution_count": 28
        }
      ]
    },
    {
      "cell_type": "code",
      "source": [
        "dataset.shape"
      ],
      "metadata": {
        "colab": {
          "base_uri": "https://localhost:8080/"
        },
        "id": "ASkerNwkZqfZ",
        "outputId": "6bff2449-b03f-4738-8bb6-326949f809ac"
      },
      "execution_count": 29,
      "outputs": [
        {
          "output_type": "execute_result",
          "data": {
            "text/plain": [
              "(9426, 24)"
            ]
          },
          "metadata": {},
          "execution_count": 29
        }
      ]
    },
    {
      "cell_type": "markdown",
      "source": [
        "As we can see, There are 9426 Rows and 24 Columns, Now we will find Missing values."
      ],
      "metadata": {
        "id": "n0DoyXqcaZoG"
      }
    },
    {
      "cell_type": "code",
      "source": [
        "dataset.isnull().sum()"
      ],
      "metadata": {
        "colab": {
          "base_uri": "https://localhost:8080/",
          "height": 836
        },
        "id": "ua8BBQxiZz0-",
        "outputId": "1eb9777d-a0df-4d25-f301-297befb95455"
      },
      "execution_count": 30,
      "outputs": [
        {
          "output_type": "execute_result",
          "data": {
            "text/plain": [
              "Row ID                   0\n",
              "Order Priority           0\n",
              "Discount                 0\n",
              "Unit Price               0\n",
              "Shipping Cost            0\n",
              "Customer ID              0\n",
              "Customer Name            0\n",
              "Ship Mode                0\n",
              "Customer Segment         0\n",
              "Product Category         0\n",
              "Product Sub-Category     0\n",
              "Product Container        0\n",
              "Product Name             0\n",
              "Product Base Margin     72\n",
              "Region                   0\n",
              "State or Province        0\n",
              "City                     0\n",
              "Postal Code              0\n",
              "Order Date               0\n",
              "Ship Date                0\n",
              "Profit                   0\n",
              "Quantity ordered new     0\n",
              "Sales                    0\n",
              "Order ID                 0\n",
              "dtype: int64"
            ],
            "text/html": [
              "<div>\n",
              "<style scoped>\n",
              "    .dataframe tbody tr th:only-of-type {\n",
              "        vertical-align: middle;\n",
              "    }\n",
              "\n",
              "    .dataframe tbody tr th {\n",
              "        vertical-align: top;\n",
              "    }\n",
              "\n",
              "    .dataframe thead th {\n",
              "        text-align: right;\n",
              "    }\n",
              "</style>\n",
              "<table border=\"1\" class=\"dataframe\">\n",
              "  <thead>\n",
              "    <tr style=\"text-align: right;\">\n",
              "      <th></th>\n",
              "      <th>0</th>\n",
              "    </tr>\n",
              "  </thead>\n",
              "  <tbody>\n",
              "    <tr>\n",
              "      <th>Row ID</th>\n",
              "      <td>0</td>\n",
              "    </tr>\n",
              "    <tr>\n",
              "      <th>Order Priority</th>\n",
              "      <td>0</td>\n",
              "    </tr>\n",
              "    <tr>\n",
              "      <th>Discount</th>\n",
              "      <td>0</td>\n",
              "    </tr>\n",
              "    <tr>\n",
              "      <th>Unit Price</th>\n",
              "      <td>0</td>\n",
              "    </tr>\n",
              "    <tr>\n",
              "      <th>Shipping Cost</th>\n",
              "      <td>0</td>\n",
              "    </tr>\n",
              "    <tr>\n",
              "      <th>Customer ID</th>\n",
              "      <td>0</td>\n",
              "    </tr>\n",
              "    <tr>\n",
              "      <th>Customer Name</th>\n",
              "      <td>0</td>\n",
              "    </tr>\n",
              "    <tr>\n",
              "      <th>Ship Mode</th>\n",
              "      <td>0</td>\n",
              "    </tr>\n",
              "    <tr>\n",
              "      <th>Customer Segment</th>\n",
              "      <td>0</td>\n",
              "    </tr>\n",
              "    <tr>\n",
              "      <th>Product Category</th>\n",
              "      <td>0</td>\n",
              "    </tr>\n",
              "    <tr>\n",
              "      <th>Product Sub-Category</th>\n",
              "      <td>0</td>\n",
              "    </tr>\n",
              "    <tr>\n",
              "      <th>Product Container</th>\n",
              "      <td>0</td>\n",
              "    </tr>\n",
              "    <tr>\n",
              "      <th>Product Name</th>\n",
              "      <td>0</td>\n",
              "    </tr>\n",
              "    <tr>\n",
              "      <th>Product Base Margin</th>\n",
              "      <td>72</td>\n",
              "    </tr>\n",
              "    <tr>\n",
              "      <th>Region</th>\n",
              "      <td>0</td>\n",
              "    </tr>\n",
              "    <tr>\n",
              "      <th>State or Province</th>\n",
              "      <td>0</td>\n",
              "    </tr>\n",
              "    <tr>\n",
              "      <th>City</th>\n",
              "      <td>0</td>\n",
              "    </tr>\n",
              "    <tr>\n",
              "      <th>Postal Code</th>\n",
              "      <td>0</td>\n",
              "    </tr>\n",
              "    <tr>\n",
              "      <th>Order Date</th>\n",
              "      <td>0</td>\n",
              "    </tr>\n",
              "    <tr>\n",
              "      <th>Ship Date</th>\n",
              "      <td>0</td>\n",
              "    </tr>\n",
              "    <tr>\n",
              "      <th>Profit</th>\n",
              "      <td>0</td>\n",
              "    </tr>\n",
              "    <tr>\n",
              "      <th>Quantity ordered new</th>\n",
              "      <td>0</td>\n",
              "    </tr>\n",
              "    <tr>\n",
              "      <th>Sales</th>\n",
              "      <td>0</td>\n",
              "    </tr>\n",
              "    <tr>\n",
              "      <th>Order ID</th>\n",
              "      <td>0</td>\n",
              "    </tr>\n",
              "  </tbody>\n",
              "</table>\n",
              "</div><br><label><b>dtype:</b> int64</label>"
            ]
          },
          "metadata": {},
          "execution_count": 30
        }
      ]
    },
    {
      "cell_type": "markdown",
      "source": [
        "As we can see there are 72 Null values in Product Base Margin Column, As we can see its a Numerical column , therefore we fill fill blank column with mean"
      ],
      "metadata": {
        "id": "GF33-4spbUP9"
      }
    },
    {
      "cell_type": "code",
      "source": [
        "dataset['Product Base Margin'].fillna(dataset['Product Base Margin'].mean(),inplace=True)"
      ],
      "metadata": {
        "colab": {
          "base_uri": "https://localhost:8080/"
        },
        "id": "CwsP1ID-drHs",
        "outputId": "fc20d715-d75b-420f-b5b2-4275e170cdc3"
      },
      "execution_count": 31,
      "outputs": [
        {
          "output_type": "stream",
          "name": "stderr",
          "text": [
            "<ipython-input-31-416cfbce15de>:1: FutureWarning: A value is trying to be set on a copy of a DataFrame or Series through chained assignment using an inplace method.\n",
            "The behavior will change in pandas 3.0. This inplace method will never work because the intermediate object on which we are setting values always behaves as a copy.\n",
            "\n",
            "For example, when doing 'df[col].method(value, inplace=True)', try using 'df.method({col: value}, inplace=True)' or df[col] = df[col].method(value) instead, to perform the operation inplace on the original object.\n",
            "\n",
            "\n",
            "  dataset['Product Base Margin'].fillna(dataset['Product Base Margin'].mean(),inplace=True)\n"
          ]
        }
      ]
    },
    {
      "cell_type": "code",
      "source": [
        "dataset.isnull().sum()"
      ],
      "metadata": {
        "colab": {
          "base_uri": "https://localhost:8080/",
          "height": 836
        },
        "id": "onh0zXf1eRfj",
        "outputId": "a7511e34-6d23-44da-9778-9eda7b3874d2"
      },
      "execution_count": 32,
      "outputs": [
        {
          "output_type": "execute_result",
          "data": {
            "text/plain": [
              "Row ID                  0\n",
              "Order Priority          0\n",
              "Discount                0\n",
              "Unit Price              0\n",
              "Shipping Cost           0\n",
              "Customer ID             0\n",
              "Customer Name           0\n",
              "Ship Mode               0\n",
              "Customer Segment        0\n",
              "Product Category        0\n",
              "Product Sub-Category    0\n",
              "Product Container       0\n",
              "Product Name            0\n",
              "Product Base Margin     0\n",
              "Region                  0\n",
              "State or Province       0\n",
              "City                    0\n",
              "Postal Code             0\n",
              "Order Date              0\n",
              "Ship Date               0\n",
              "Profit                  0\n",
              "Quantity ordered new    0\n",
              "Sales                   0\n",
              "Order ID                0\n",
              "dtype: int64"
            ],
            "text/html": [
              "<div>\n",
              "<style scoped>\n",
              "    .dataframe tbody tr th:only-of-type {\n",
              "        vertical-align: middle;\n",
              "    }\n",
              "\n",
              "    .dataframe tbody tr th {\n",
              "        vertical-align: top;\n",
              "    }\n",
              "\n",
              "    .dataframe thead th {\n",
              "        text-align: right;\n",
              "    }\n",
              "</style>\n",
              "<table border=\"1\" class=\"dataframe\">\n",
              "  <thead>\n",
              "    <tr style=\"text-align: right;\">\n",
              "      <th></th>\n",
              "      <th>0</th>\n",
              "    </tr>\n",
              "  </thead>\n",
              "  <tbody>\n",
              "    <tr>\n",
              "      <th>Row ID</th>\n",
              "      <td>0</td>\n",
              "    </tr>\n",
              "    <tr>\n",
              "      <th>Order Priority</th>\n",
              "      <td>0</td>\n",
              "    </tr>\n",
              "    <tr>\n",
              "      <th>Discount</th>\n",
              "      <td>0</td>\n",
              "    </tr>\n",
              "    <tr>\n",
              "      <th>Unit Price</th>\n",
              "      <td>0</td>\n",
              "    </tr>\n",
              "    <tr>\n",
              "      <th>Shipping Cost</th>\n",
              "      <td>0</td>\n",
              "    </tr>\n",
              "    <tr>\n",
              "      <th>Customer ID</th>\n",
              "      <td>0</td>\n",
              "    </tr>\n",
              "    <tr>\n",
              "      <th>Customer Name</th>\n",
              "      <td>0</td>\n",
              "    </tr>\n",
              "    <tr>\n",
              "      <th>Ship Mode</th>\n",
              "      <td>0</td>\n",
              "    </tr>\n",
              "    <tr>\n",
              "      <th>Customer Segment</th>\n",
              "      <td>0</td>\n",
              "    </tr>\n",
              "    <tr>\n",
              "      <th>Product Category</th>\n",
              "      <td>0</td>\n",
              "    </tr>\n",
              "    <tr>\n",
              "      <th>Product Sub-Category</th>\n",
              "      <td>0</td>\n",
              "    </tr>\n",
              "    <tr>\n",
              "      <th>Product Container</th>\n",
              "      <td>0</td>\n",
              "    </tr>\n",
              "    <tr>\n",
              "      <th>Product Name</th>\n",
              "      <td>0</td>\n",
              "    </tr>\n",
              "    <tr>\n",
              "      <th>Product Base Margin</th>\n",
              "      <td>0</td>\n",
              "    </tr>\n",
              "    <tr>\n",
              "      <th>Region</th>\n",
              "      <td>0</td>\n",
              "    </tr>\n",
              "    <tr>\n",
              "      <th>State or Province</th>\n",
              "      <td>0</td>\n",
              "    </tr>\n",
              "    <tr>\n",
              "      <th>City</th>\n",
              "      <td>0</td>\n",
              "    </tr>\n",
              "    <tr>\n",
              "      <th>Postal Code</th>\n",
              "      <td>0</td>\n",
              "    </tr>\n",
              "    <tr>\n",
              "      <th>Order Date</th>\n",
              "      <td>0</td>\n",
              "    </tr>\n",
              "    <tr>\n",
              "      <th>Ship Date</th>\n",
              "      <td>0</td>\n",
              "    </tr>\n",
              "    <tr>\n",
              "      <th>Profit</th>\n",
              "      <td>0</td>\n",
              "    </tr>\n",
              "    <tr>\n",
              "      <th>Quantity ordered new</th>\n",
              "      <td>0</td>\n",
              "    </tr>\n",
              "    <tr>\n",
              "      <th>Sales</th>\n",
              "      <td>0</td>\n",
              "    </tr>\n",
              "    <tr>\n",
              "      <th>Order ID</th>\n",
              "      <td>0</td>\n",
              "    </tr>\n",
              "  </tbody>\n",
              "</table>\n",
              "</div><br><label><b>dtype:</b> int64</label>"
            ]
          },
          "metadata": {},
          "execution_count": 32
        }
      ]
    },
    {
      "cell_type": "markdown",
      "source": [
        "## As we can see, we have successfully filled missing values in the  column with mean value."
      ],
      "metadata": {
        "id": "lPuH7fLeeXWE"
      }
    },
    {
      "cell_type": "markdown",
      "source": [
        "Now we will do Univariate Analysis on Order Priority where we will check no. of products from each priority"
      ],
      "metadata": {
        "id": "kT-Msrt1GZgN"
      }
    },
    {
      "cell_type": "code",
      "source": [
        "dataset['Order Priority'].value_counts()"
      ],
      "metadata": {
        "colab": {
          "base_uri": "https://localhost:8080/",
          "height": 303
        },
        "id": "KG_Kem8ieodm",
        "outputId": "a213610d-bc15-4999-9207-1102ae151d47"
      },
      "execution_count": 33,
      "outputs": [
        {
          "output_type": "execute_result",
          "data": {
            "text/plain": [
              "Order Priority\n",
              "High             1970\n",
              "Low              1926\n",
              "Not Specified    1881\n",
              "Medium           1844\n",
              "Critical         1804\n",
              "Critical            1\n",
              "Name: count, dtype: int64"
            ],
            "text/html": [
              "<div>\n",
              "<style scoped>\n",
              "    .dataframe tbody tr th:only-of-type {\n",
              "        vertical-align: middle;\n",
              "    }\n",
              "\n",
              "    .dataframe tbody tr th {\n",
              "        vertical-align: top;\n",
              "    }\n",
              "\n",
              "    .dataframe thead th {\n",
              "        text-align: right;\n",
              "    }\n",
              "</style>\n",
              "<table border=\"1\" class=\"dataframe\">\n",
              "  <thead>\n",
              "    <tr style=\"text-align: right;\">\n",
              "      <th></th>\n",
              "      <th>count</th>\n",
              "    </tr>\n",
              "    <tr>\n",
              "      <th>Order Priority</th>\n",
              "      <th></th>\n",
              "    </tr>\n",
              "  </thead>\n",
              "  <tbody>\n",
              "    <tr>\n",
              "      <th>High</th>\n",
              "      <td>1970</td>\n",
              "    </tr>\n",
              "    <tr>\n",
              "      <th>Low</th>\n",
              "      <td>1926</td>\n",
              "    </tr>\n",
              "    <tr>\n",
              "      <th>Not Specified</th>\n",
              "      <td>1881</td>\n",
              "    </tr>\n",
              "    <tr>\n",
              "      <th>Medium</th>\n",
              "      <td>1844</td>\n",
              "    </tr>\n",
              "    <tr>\n",
              "      <th>Critical</th>\n",
              "      <td>1804</td>\n",
              "    </tr>\n",
              "    <tr>\n",
              "      <th>Critical</th>\n",
              "      <td>1</td>\n",
              "    </tr>\n",
              "  </tbody>\n",
              "</table>\n",
              "</div><br><label><b>dtype:</b> int64</label>"
            ]
          },
          "metadata": {},
          "execution_count": 33
        }
      ]
    },
    {
      "cell_type": "markdown",
      "source": [
        "As we can check different Order priority from low to critical. Here High priority product orders are highest in count of 1970 and Critical priority is lowest in count of only 1804. but here is one problem, where there are two critical priority. first we will solve this. we will do some data cleaning"
      ],
      "metadata": {
        "id": "LO6o0_FRHjtK"
      }
    },
    {
      "cell_type": "code",
      "source": [
        "dataset['Order Priority'].unique()"
      ],
      "metadata": {
        "colab": {
          "base_uri": "https://localhost:8080/"
        },
        "id": "UoHxxsNnIjPe",
        "outputId": "3f0d239d-c5f6-4821-9ffb-4358d94bdd66"
      },
      "execution_count": 34,
      "outputs": [
        {
          "output_type": "execute_result",
          "data": {
            "text/plain": [
              "array(['Not Specified', 'High', 'Medium', 'Low', 'Critical', 'Critical '],\n",
              "      dtype=object)"
            ]
          },
          "metadata": {},
          "execution_count": 34
        }
      ]
    },
    {
      "cell_type": "code",
      "source": [
        "dataset['Order Priority'].replace('Critical ','Critical',inplace=True)"
      ],
      "metadata": {
        "colab": {
          "base_uri": "https://localhost:8080/"
        },
        "id": "I-nld7xlIu4C",
        "outputId": "4853ec93-d8bb-4adb-a5f0-00ece6508541"
      },
      "execution_count": 35,
      "outputs": [
        {
          "output_type": "stream",
          "name": "stderr",
          "text": [
            "<ipython-input-35-a819f86dd22e>:1: FutureWarning: A value is trying to be set on a copy of a DataFrame or Series through chained assignment using an inplace method.\n",
            "The behavior will change in pandas 3.0. This inplace method will never work because the intermediate object on which we are setting values always behaves as a copy.\n",
            "\n",
            "For example, when doing 'df[col].method(value, inplace=True)', try using 'df.method({col: value}, inplace=True)' or df[col] = df[col].method(value) instead, to perform the operation inplace on the original object.\n",
            "\n",
            "\n",
            "  dataset['Order Priority'].replace('Critical ','Critical',inplace=True)\n"
          ]
        }
      ]
    },
    {
      "cell_type": "code",
      "source": [
        "dataset['Order Priority'].value_counts()"
      ],
      "metadata": {
        "colab": {
          "base_uri": "https://localhost:8080/",
          "height": 272
        },
        "id": "N8BzEjfPJhoh",
        "outputId": "9578e42c-2b53-4b29-c82f-180b69f1fb7f"
      },
      "execution_count": 36,
      "outputs": [
        {
          "output_type": "execute_result",
          "data": {
            "text/plain": [
              "Order Priority\n",
              "High             1970\n",
              "Low              1926\n",
              "Not Specified    1881\n",
              "Medium           1844\n",
              "Critical         1805\n",
              "Name: count, dtype: int64"
            ],
            "text/html": [
              "<div>\n",
              "<style scoped>\n",
              "    .dataframe tbody tr th:only-of-type {\n",
              "        vertical-align: middle;\n",
              "    }\n",
              "\n",
              "    .dataframe tbody tr th {\n",
              "        vertical-align: top;\n",
              "    }\n",
              "\n",
              "    .dataframe thead th {\n",
              "        text-align: right;\n",
              "    }\n",
              "</style>\n",
              "<table border=\"1\" class=\"dataframe\">\n",
              "  <thead>\n",
              "    <tr style=\"text-align: right;\">\n",
              "      <th></th>\n",
              "      <th>count</th>\n",
              "    </tr>\n",
              "    <tr>\n",
              "      <th>Order Priority</th>\n",
              "      <th></th>\n",
              "    </tr>\n",
              "  </thead>\n",
              "  <tbody>\n",
              "    <tr>\n",
              "      <th>High</th>\n",
              "      <td>1970</td>\n",
              "    </tr>\n",
              "    <tr>\n",
              "      <th>Low</th>\n",
              "      <td>1926</td>\n",
              "    </tr>\n",
              "    <tr>\n",
              "      <th>Not Specified</th>\n",
              "      <td>1881</td>\n",
              "    </tr>\n",
              "    <tr>\n",
              "      <th>Medium</th>\n",
              "      <td>1844</td>\n",
              "    </tr>\n",
              "    <tr>\n",
              "      <th>Critical</th>\n",
              "      <td>1805</td>\n",
              "    </tr>\n",
              "  </tbody>\n",
              "</table>\n",
              "</div><br><label><b>dtype:</b> int64</label>"
            ]
          },
          "metadata": {},
          "execution_count": 36
        }
      ]
    },
    {
      "cell_type": "markdown",
      "source": [
        "### Now we have solved the problem of two same order priority by doing some data cleaning by running some command above."
      ],
      "metadata": {
        "id": "xYr5XZJ6Jm_Q"
      }
    },
    {
      "cell_type": "markdown",
      "source": [
        "# Now we will do some graphical analysis"
      ],
      "metadata": {
        "id": "pGm7reD7KOSE"
      }
    },
    {
      "cell_type": "code",
      "source": [
        "plt.figure(figsize=(10,5))\n",
        "sns.countplot(dataset['Order Priority'])\n",
        "plt.title('Count of Order Priority')\n",
        "\n",
        "#plt.savefig('countplotOrderPriority.png') to download in pc\n",
        "\n",
        "\n",
        "plt.show()\n",
        "#for vertical view\n",
        "#sns.countplot(x='Order Priority',data = dataset)\n",
        "\n"
      ],
      "metadata": {
        "colab": {
          "base_uri": "https://localhost:8080/",
          "height": 487
        },
        "id": "wPuWCK5UJmN5",
        "outputId": "c790f9f7-d44e-4444-db7a-4315e61bd474"
      },
      "execution_count": 37,
      "outputs": [
        {
          "output_type": "display_data",
          "data": {
            "text/plain": [
              "<Figure size 1000x500 with 1 Axes>"
            ],
            "image/png": "[encoded data removed]"
          },
          "metadata": {}
        }
      ]
    },
    {
      "cell_type": "markdown",
      "source": [
        "## Now we will see detail insights of Ship mode"
      ],
      "metadata": {
        "id": "YnbzGqnjPmeq"
      }
    },
    {
      "cell_type": "code",
      "source": [
        "dataset['Ship Mode'].value_counts()"
      ],
      "metadata": {
        "colab": {
          "base_uri": "https://localhost:8080/",
          "height": 209
        },
        "id": "hG8whQKvLJg-",
        "outputId": "d8d2cdc6-822b-4103-b51f-d57cb72f2f2d"
      },
      "execution_count": 38,
      "outputs": [
        {
          "output_type": "execute_result",
          "data": {
            "text/plain": [
              "Ship Mode\n",
              "Regular Air       7036\n",
              "Delivery Truck    1283\n",
              "Express Air       1107\n",
              "Name: count, dtype: int64"
            ],
            "text/html": [
              "<div>\n",
              "<style scoped>\n",
              "    .dataframe tbody tr th:only-of-type {\n",
              "        vertical-align: middle;\n",
              "    }\n",
              "\n",
              "    .dataframe tbody tr th {\n",
              "        vertical-align: top;\n",
              "    }\n",
              "\n",
              "    .dataframe thead th {\n",
              "        text-align: right;\n",
              "    }\n",
              "</style>\n",
              "<table border=\"1\" class=\"dataframe\">\n",
              "  <thead>\n",
              "    <tr style=\"text-align: right;\">\n",
              "      <th></th>\n",
              "      <th>count</th>\n",
              "    </tr>\n",
              "    <tr>\n",
              "      <th>Ship Mode</th>\n",
              "      <th></th>\n",
              "    </tr>\n",
              "  </thead>\n",
              "  <tbody>\n",
              "    <tr>\n",
              "      <th>Regular Air</th>\n",
              "      <td>7036</td>\n",
              "    </tr>\n",
              "    <tr>\n",
              "      <th>Delivery Truck</th>\n",
              "      <td>1283</td>\n",
              "    </tr>\n",
              "    <tr>\n",
              "      <th>Express Air</th>\n",
              "      <td>1107</td>\n",
              "    </tr>\n",
              "  </tbody>\n",
              "</table>\n",
              "</div><br><label><b>dtype:</b> int64</label>"
            ]
          },
          "metadata": {},
          "execution_count": 38
        }
      ]
    },
    {
      "cell_type": "markdown",
      "source": [
        "## Here we can see there are three shipping mode and there respective counts. now we will see graphically."
      ],
      "metadata": {
        "id": "KvKoyN1kQHo-"
      }
    },
    {
      "cell_type": "code",
      "source": [
        "x = dataset['Ship Mode'].value_counts().index\n",
        "y = dataset['Ship Mode'].value_counts().values\n",
        "plt.pie(y,labels=x,autopct='%1.2f%%')\n",
        "plt.title('Ship Mode')\n",
        "plt.legend(loc=2)\n",
        "plt.show()"
      ],
      "metadata": {
        "colab": {
          "base_uri": "https://localhost:8080/",
          "height": 428
        },
        "id": "QvV75A1XQaQL",
        "outputId": "085db000-0209-477b-ff41-9f80feecc697"
      },
      "execution_count": 39,
      "outputs": [
        {
          "output_type": "display_data",
          "data": {
            "text/plain": [
              "<Figure size 640x480 with 1 Axes>"
            ],
            "image/png": "[encoded data removed]"
          },
          "metadata": {}
        }
      ]
    },
    {
      "cell_type": "markdown",
      "source": [
        "## Now we will see the combined analysis of ship mode and product category."
      ],
      "metadata": {
        "id": "Kf1OhfneizMs"
      }
    },
    {
      "cell_type": "code",
      "source": [
        "sns.countplot(x='Ship Mode',hue='Product Category',data=dataset)\n",
        "plt.show()"
      ],
      "metadata": {
        "colab": {
          "base_uri": "https://localhost:8080/",
          "height": 449
        },
        "id": "F6n-BrM7gvZ_",
        "outputId": "89f1b08f-ae38-4d90-f8e2-821c6dbc5907"
      },
      "execution_count": 40,
      "outputs": [
        {
          "output_type": "display_data",
          "data": {
            "text/plain": [
              "<Figure size 640x480 with 1 Axes>"
            ],
            "image/png": "[encoded data removed]"
          },
          "metadata": {}
        }
      ]
    },
    {
      "cell_type": "markdown",
      "source": [
        "## From above we can retrieve important insights from data."
      ],
      "metadata": {
        "id": "pLaNBaXhkfRE"
      }
    },
    {
      "cell_type": "markdown",
      "source": [
        "## Now we will do some analysis on Customer Segment"
      ],
      "metadata": {
        "id": "AydZLA2jLXKG"
      }
    },
    {
      "cell_type": "code",
      "source": [
        "plt.figure(figsize=(10,5))\n",
        "sns.countplot(dataset['Customer Segment'])\n",
        "plt.title('Count of Customer Segment')\n",
        "plt.show()"
      ],
      "metadata": {
        "colab": {
          "base_uri": "https://localhost:8080/",
          "height": 487
        },
        "id": "RE69xTKekeSi",
        "outputId": "f70fa28c-628c-400a-fac9-a061d502998e"
      },
      "execution_count": 41,
      "outputs": [
        {
          "output_type": "display_data",
          "data": {
            "text/plain": [
              "<Figure size 1000x500 with 1 Axes>"
            ],
            "image/png": "[encoded data removed]"
          },
          "metadata": {}
        }
      ]
    },
    {
      "cell_type": "code",
      "source": [
        "dataset['Customer Segment'].value_counts()"
      ],
      "metadata": {
        "colab": {
          "base_uri": "https://localhost:8080/",
          "height": 241
        },
        "id": "fsSPo8IXLuw_",
        "outputId": "cecb536c-851b-4d43-ef98-02f83dff83f4"
      },
      "execution_count": 42,
      "outputs": [
        {
          "output_type": "execute_result",
          "data": {
            "text/plain": [
              "Customer Segment\n",
              "Corporate         3375\n",
              "Home Office       2316\n",
              "Consumer          1894\n",
              "Small Business    1841\n",
              "Name: count, dtype: int64"
            ],
            "text/html": [
              "<div>\n",
              "<style scoped>\n",
              "    .dataframe tbody tr th:only-of-type {\n",
              "        vertical-align: middle;\n",
              "    }\n",
              "\n",
              "    .dataframe tbody tr th {\n",
              "        vertical-align: top;\n",
              "    }\n",
              "\n",
              "    .dataframe thead th {\n",
              "        text-align: right;\n",
              "    }\n",
              "</style>\n",
              "<table border=\"1\" class=\"dataframe\">\n",
              "  <thead>\n",
              "    <tr style=\"text-align: right;\">\n",
              "      <th></th>\n",
              "      <th>count</th>\n",
              "    </tr>\n",
              "    <tr>\n",
              "      <th>Customer Segment</th>\n",
              "      <th></th>\n",
              "    </tr>\n",
              "  </thead>\n",
              "  <tbody>\n",
              "    <tr>\n",
              "      <th>Corporate</th>\n",
              "      <td>3375</td>\n",
              "    </tr>\n",
              "    <tr>\n",
              "      <th>Home Office</th>\n",
              "      <td>2316</td>\n",
              "    </tr>\n",
              "    <tr>\n",
              "      <th>Consumer</th>\n",
              "      <td>1894</td>\n",
              "    </tr>\n",
              "    <tr>\n",
              "      <th>Small Business</th>\n",
              "      <td>1841</td>\n",
              "    </tr>\n",
              "  </tbody>\n",
              "</table>\n",
              "</div><br><label><b>dtype:</b> int64</label>"
            ]
          },
          "metadata": {},
          "execution_count": 42
        }
      ]
    },
    {
      "cell_type": "markdown",
      "source": [
        "As per the Numerical data and graphical representatiom we can see the  demand of the product of corporate Segment is high and the Small Bussiness Segment is low as compared to other.\n"
      ],
      "metadata": {
        "id": "2-mJXrdsL82M"
      }
    },
    {
      "cell_type": "markdown",
      "source": [
        "# Product Category"
      ],
      "metadata": {
        "id": "fN5VbD2vM5WK"
      }
    },
    {
      "cell_type": "code",
      "source": [
        "plt.figure(figsize=(10,5))\n",
        "sns.countplot(dataset['Product Category'])\n",
        "plt.title('Count of Product Category')\n",
        "plt.show()"
      ],
      "metadata": {
        "colab": {
          "base_uri": "https://localhost:8080/",
          "height": 487
        },
        "id": "hFvU9RGfL5To",
        "outputId": "493decab-98af-48ce-984c-dca8ff369f53"
      },
      "execution_count": 43,
      "outputs": [
        {
          "output_type": "display_data",
          "data": {
            "text/plain": [
              "<Figure size 1000x500 with 1 Axes>"
            ],
            "image/png": "[encoded data removed]"
          },
          "metadata": {}
        }
      ]
    },
    {
      "cell_type": "markdown",
      "source": [
        "From above graphical representation we can see that the sales of office Supplies is highest among the three Category where sales of Technology product and furniture is similary as small sales difference and both the category has less than half sales as compared to office Supplies."
      ],
      "metadata": {
        "id": "TesMjliRgbLb"
      }
    },
    {
      "cell_type": "code",
      "source": [
        "plt.figure(figsize=(10,10))\n",
        "sns.countplot(x = \"Product Category\", data = dataset[dataset['Product Category']==\"Office Supplies\"],hue=\"Product Sub-Category\")\n",
        "plt.title('Count of Product Sub-Category')\n",
        "plt.show()"
      ],
      "metadata": {
        "colab": {
          "base_uri": "https://localhost:8080/",
          "height": 872
        },
        "id": "yQTVOEz2ga03",
        "outputId": "3116d7c2-34cc-40d5-9cd2-49e5c4b278a9"
      },
      "execution_count": 44,
      "outputs": [
        {
          "output_type": "display_data",
          "data": {
            "text/plain": [
              "<Figure size 1000x1000 with 1 Axes>"
            ],
            "image/png": "[encoded data removed]"
          },
          "metadata": {}
        }
      ]
    },
    {
      "cell_type": "code",
      "source": [
        "plt.figure(figsize=(10,5))\n",
        "sns.countplot(x = \"Product Category\", data = dataset[dataset['Product Category']==\"Technology\"],hue=\"Product Sub-Category\")\n",
        "plt.title('Count of Product Sub-Category')\n",
        "plt.show()"
      ],
      "metadata": {
        "colab": {
          "base_uri": "https://localhost:8080/",
          "height": 487
        },
        "id": "CweOJpd9hwjM",
        "outputId": "9bd0da78-c204-4cdc-9efa-bc3b2eab2146"
      },
      "execution_count": 45,
      "outputs": [
        {
          "output_type": "display_data",
          "data": {
            "text/plain": [
              "<Figure size 1000x500 with 1 Axes>"
            ],
            "image/png": "[encoded data removed]"
          },
          "metadata": {}
        }
      ]
    },
    {
      "cell_type": "code",
      "source": [
        "plt.figure(figsize=(10,5))\n",
        "sns.countplot(x = \"Product Category\", data = dataset[dataset['Product Category']==\"Furniture\"],hue=\"Product Sub-Category\")\n",
        "plt.title('Count of Product Sub-Category')\n",
        "plt.show()"
      ],
      "metadata": {
        "colab": {
          "base_uri": "https://localhost:8080/",
          "height": 487
        },
        "id": "PEWKGqntjI7q",
        "outputId": "cff7f713-dc44-4112-80eb-c25f427eda5e"
      },
      "execution_count": 46,
      "outputs": [
        {
          "output_type": "display_data",
          "data": {
            "text/plain": [
              "<Figure size 1000x500 with 1 Axes>"
            ],
            "image/png": "[encoded data removed]"
          },
          "metadata": {}
        }
      ]
    },
    {
      "cell_type": "markdown",
      "source": [
        "Above is Graphical representation of Sales count Based on Product Sub"
      ],
      "metadata": {
        "id": "JiVJDqOwjZtt"
      }
    },
    {
      "cell_type": "markdown",
      "source": [
        "## Now we will see Sales counts from  different Timelines"
      ],
      "metadata": {
        "id": "h36YsYyIj902"
      }
    },
    {
      "cell_type": "code",
      "source": [
        "dataset[\"Order year\"]=dataset['Order Date'].dt.year"
      ],
      "metadata": {
        "id": "XQsK8EdqjrpK"
      },
      "execution_count": 47,
      "outputs": []
    },
    {
      "cell_type": "code",
      "source": [
        "dataset.info()"
      ],
      "metadata": {
        "colab": {
          "base_uri": "https://localhost:8080/"
        },
        "id": "Sktdv1LmlaPL",
        "outputId": "d2c3cda8-123f-457b-a491-021a499819a8"
      },
      "execution_count": 48,
      "outputs": [
        {
          "output_type": "stream",
          "name": "stdout",
          "text": [
            "<class 'pandas.core.frame.DataFrame'>\n",
            "RangeIndex: 9426 entries, 0 to 9425\n",
            "Data columns (total 25 columns):\n",
            " #   Column                Non-Null Count  Dtype         \n",
            "---  ------                --------------  -----         \n",
            " 0   Row ID                9426 non-null   int64         \n",
            " 1   Order Priority        9426 non-null   object        \n",
            " 2   Discount              9426 non-null   float64       \n",
            " 3   Unit Price            9426 non-null   float64       \n",
            " 4   Shipping Cost         9426 non-null   float64       \n",
            " 5   Customer ID           9426 non-null   int64         \n",
            " 6   Customer Name         9426 non-null   object        \n",
            " 7   Ship Mode             9426 non-null   object        \n",
            " 8   Customer Segment      9426 non-null   object        \n",
            " 9   Product Category      9426 non-null   object        \n",
            " 10  Product Sub-Category  9426 non-null   object        \n",
            " 11  Product Container     9426 non-null   object        \n",
            " 12  Product Name          9426 non-null   object        \n",
            " 13  Product Base Margin   9426 non-null   float64       \n",
            " 14  Region                9426 non-null   object        \n",
            " 15  State or Province     9426 non-null   object        \n",
            " 16  City                  9426 non-null   object        \n",
            " 17  Postal Code           9426 non-null   int64         \n",
            " 18  Order Date            9426 non-null   datetime64[ns]\n",
            " 19  Ship Date             9426 non-null   datetime64[ns]\n",
            " 20  Profit                9426 non-null   float64       \n",
            " 21  Quantity ordered new  9426 non-null   int64         \n",
            " 22  Sales                 9426 non-null   float64       \n",
            " 23  Order ID              9426 non-null   int64         \n",
            " 24  Order year            9426 non-null   int32         \n",
            "dtypes: datetime64[ns](2), float64(6), int32(1), int64(5), object(11)\n",
            "memory usage: 1.8+ MB\n"
          ]
        }
      ]
    },
    {
      "cell_type": "code",
      "source": [
        "dataset['Order year'].value_counts()"
      ],
      "metadata": {
        "colab": {
          "base_uri": "https://localhost:8080/",
          "height": 241
        },
        "id": "5TiGhBFBlzI1",
        "outputId": "21522021-c2a6-468d-cb64-0713fa40e0d1"
      },
      "execution_count": 49,
      "outputs": [
        {
          "output_type": "execute_result",
          "data": {
            "text/plain": [
              "Order year\n",
              "2013    3054\n",
              "2012    2241\n",
              "2011    2179\n",
              "2010    1952\n",
              "Name: count, dtype: int64"
            ],
            "text/html": [
              "<div>\n",
              "<style scoped>\n",
              "    .dataframe tbody tr th:only-of-type {\n",
              "        vertical-align: middle;\n",
              "    }\n",
              "\n",
              "    .dataframe tbody tr th {\n",
              "        vertical-align: top;\n",
              "    }\n",
              "\n",
              "    .dataframe thead th {\n",
              "        text-align: right;\n",
              "    }\n",
              "</style>\n",
              "<table border=\"1\" class=\"dataframe\">\n",
              "  <thead>\n",
              "    <tr style=\"text-align: right;\">\n",
              "      <th></th>\n",
              "      <th>count</th>\n",
              "    </tr>\n",
              "    <tr>\n",
              "      <th>Order year</th>\n",
              "      <th></th>\n",
              "    </tr>\n",
              "  </thead>\n",
              "  <tbody>\n",
              "    <tr>\n",
              "      <th>2013</th>\n",
              "      <td>3054</td>\n",
              "    </tr>\n",
              "    <tr>\n",
              "      <th>2012</th>\n",
              "      <td>2241</td>\n",
              "    </tr>\n",
              "    <tr>\n",
              "      <th>2011</th>\n",
              "      <td>2179</td>\n",
              "    </tr>\n",
              "    <tr>\n",
              "      <th>2010</th>\n",
              "      <td>1952</td>\n",
              "    </tr>\n",
              "  </tbody>\n",
              "</table>\n",
              "</div><br><label><b>dtype:</b> int64</label>"
            ]
          },
          "metadata": {},
          "execution_count": 49
        }
      ]
    },
    {
      "cell_type": "code",
      "source": [
        "sns.countplot(x='Order year',data=dataset)\n",
        "plt.show()"
      ],
      "metadata": {
        "colab": {
          "base_uri": "https://localhost:8080/",
          "height": 449
        },
        "id": "g93MXAAAmE7b",
        "outputId": "a2d4ec25-7bae-45c5-9e52-b08bc07718a9"
      },
      "execution_count": 50,
      "outputs": [
        {
          "output_type": "display_data",
          "data": {
            "text/plain": [
              "<Figure size 640x480 with 1 Axes>"
            ],
            "image/png": "[encoded data removed]"
          },
          "metadata": {}
        }
      ]
    },
    {
      "cell_type": "markdown",
      "source": [
        "As we can see by numerical values and graphical representation, the Sales of Superstore is increasing gradualy year by year from 2010 to 2014."
      ],
      "metadata": {
        "id": "gi9mjuNhmWdK"
      }
    },
    {
      "cell_type": "markdown",
      "source": [
        "## Now we will Retrieve important information Categorywise Profit made by Superstore"
      ],
      "metadata": {
        "id": "10GjJE3_nFHD"
      }
    },
    {
      "cell_type": "code",
      "source": [
        "sns.barplot(x='Product Category',y='Profit',data=dataset,estimator='sum')\n",
        "plt.title('Profit by Category')\n",
        "plt.show()"
      ],
      "metadata": {
        "colab": {
          "base_uri": "https://localhost:8080/",
          "height": 472
        },
        "id": "TukmqUjqmV6J",
        "outputId": "49501218-266a-4eeb-a9b0-269a3bdf16aa"
      },
      "execution_count": 53,
      "outputs": [
        {
          "output_type": "display_data",
          "data": {
            "text/plain": [
              "<Figure size 640x480 with 1 Axes>"
            ],
            "image/png": "[encoded data removed]"
          },
          "metadata": {}
        }
      ]
    },
    {
      "cell_type": "code",
      "source": [
        "# prompt: categorywise profit\n",
        "\n",
        "# Calculate and display category-wise profit\n",
        "category_profit = dataset.groupby('Product Category')['Profit'].sum()\n",
        "print(category_profit)\n",
        "\n",
        "# Create a bar plot for better visualization\n",
        "plt.figure(figsize=(10, 6))\n",
        "sns.barplot(x=category_profit.index, y=category_profit.values)\n",
        "plt.title('Category-wise Profit')\n",
        "plt.xlabel('Product Category')\n",
        "plt.ylabel('Total Profit')\n",
        "plt.show()"
      ],
      "metadata": {
        "colab": {
          "base_uri": "https://localhost:8080/",
          "height": 651
        },
        "id": "MMlgpDv6Q2sv",
        "outputId": "dd001406-6d1b-4e63-a4af-f91cd9b06913"
      },
      "execution_count": 54,
      "outputs": [
        {
          "output_type": "stream",
          "name": "stdout",
          "text": [
            "Product Category\n",
            "Furniture          177354.298188\n",
            "Office Supplies    451990.216492\n",
            "Technology         683097.884748\n",
            "Name: Profit, dtype: float64\n"
          ]
        },
        {
          "output_type": "display_data",
          "data": {
            "text/plain": [
              "<Figure size 1000x600 with 1 Axes>"
            ],
            "image/png": "[encoded data removed]"
          },
          "metadata": {}
        }
      ]
    },
    {
      "cell_type": "markdown",
      "source": [
        "Here we can see Technolgy category made highest sales and Furniture category has lowest. Office Supplies made Average sales as compared both the category."
      ],
      "metadata": {
        "id": "oydHrnmWRfEu"
      }
    },
    {
      "cell_type": "markdown",
      "source": [
        "## Now we will See Sales of each State"
      ],
      "metadata": {
        "id": "HgTMHdIARTRl"
      }
    },
    {
      "cell_type": "code",
      "source": [
        "dataset['State or Province'].value_counts()"
      ],
      "metadata": {
        "colab": {
          "base_uri": "https://localhost:8080/",
          "height": 1000
        },
        "id": "EK4j3IuORS65",
        "outputId": "8d144400-3335-4cfc-85ac-5374f34e5a8a"
      },
      "execution_count": 58,
      "outputs": [
        {
          "output_type": "execute_result",
          "data": {
            "text/plain": [
              "State or Province\n",
              "California              1021\n",
              "Texas                    646\n",
              "Illinois                 584\n",
              "New York                 574\n",
              "Florida                  522\n",
              "Ohio                     396\n",
              "Washington               327\n",
              "Michigan                 327\n",
              "Pennsylvania             271\n",
              "North Carolina           251\n",
              "Indiana                  241\n",
              "Minnesota                239\n",
              "Massachusetts            222\n",
              "Georgia                  214\n",
              "Virginia                 198\n",
              "Maryland                 178\n",
              "Colorado                 177\n",
              "New Jersey               177\n",
              "Wisconsin                169\n",
              "Oregon                   168\n",
              "Tennessee                166\n",
              "Missouri                 161\n",
              "Iowa                     156\n",
              "Utah                     146\n",
              "Arizona                  134\n",
              "Kansas                   133\n",
              "Maine                    128\n",
              "Alabama                  125\n",
              "Arkansas                 123\n",
              "Idaho                    114\n",
              "South Carolina           105\n",
              "Oklahoma                 104\n",
              "Louisiana                 89\n",
              "New Mexico                84\n",
              "Kentucky                  83\n",
              "Connecticut               82\n",
              "Mississippi               78\n",
              "Nebraska                  77\n",
              "District of Columbia      68\n",
              "Vermont                   61\n",
              "New Hampshire             54\n",
              "Montana                   49\n",
              "West Virginia             43\n",
              "Nevada                    43\n",
              "North Dakota              34\n",
              "South Dakota              28\n",
              "Wyoming                   21\n",
              "Rhode Island              20\n",
              "Delaware                  15\n",
              "Name: count, dtype: int64"
            ],
            "text/html": [
              "<div>\n",
              "<style scoped>\n",
              "    .dataframe tbody tr th:only-of-type {\n",
              "        vertical-align: middle;\n",
              "    }\n",
              "\n",
              "    .dataframe tbody tr th {\n",
              "        vertical-align: top;\n",
              "    }\n",
              "\n",
              "    .dataframe thead th {\n",
              "        text-align: right;\n",
              "    }\n",
              "</style>\n",
              "<table border=\"1\" class=\"dataframe\">\n",
              "  <thead>\n",
              "    <tr style=\"text-align: right;\">\n",
              "      <th></th>\n",
              "      <th>count</th>\n",
              "    </tr>\n",
              "    <tr>\n",
              "      <th>State or Province</th>\n",
              "      <th></th>\n",
              "    </tr>\n",
              "  </thead>\n",
              "  <tbody>\n",
              "    <tr>\n",
              "      <th>California</th>\n",
              "      <td>1021</td>\n",
              "    </tr>\n",
              "    <tr>\n",
              "      <th>Texas</th>\n",
              "      <td>646</td>\n",
              "    </tr>\n",
              "    <tr>\n",
              "      <th>Illinois</th>\n",
              "      <td>584</td>\n",
              "    </tr>\n",
              "    <tr>\n",
              "      <th>New York</th>\n",
              "      <td>574</td>\n",
              "    </tr>\n",
              "    <tr>\n",
              "      <th>Florida</th>\n",
              "      <td>522</td>\n",
              "    </tr>\n",
              "    <tr>\n",
              "      <th>Ohio</th>\n",
              "      <td>396</td>\n",
              "    </tr>\n",
              "    <tr>\n",
              "      <th>Washington</th>\n",
              "      <td>327</td>\n",
              "    </tr>\n",
              "    <tr>\n",
              "      <th>Michigan</th>\n",
              "      <td>327</td>\n",
              "    </tr>\n",
              "    <tr>\n",
              "      <th>Pennsylvania</th>\n",
              "      <td>271</td>\n",
              "    </tr>\n",
              "    <tr>\n",
              "      <th>North Carolina</th>\n",
              "      <td>251</td>\n",
              "    </tr>\n",
              "    <tr>\n",
              "      <th>Indiana</th>\n",
              "      <td>241</td>\n",
              "    </tr>\n",
              "    <tr>\n",
              "      <th>Minnesota</th>\n",
              "      <td>239</td>\n",
              "    </tr>\n",
              "    <tr>\n",
              "      <th>Massachusetts</th>\n",
              "      <td>222</td>\n",
              "    </tr>\n",
              "    <tr>\n",
              "      <th>Georgia</th>\n",
              "      <td>214</td>\n",
              "    </tr>\n",
              "    <tr>\n",
              "      <th>Virginia</th>\n",
              "      <td>198</td>\n",
              "    </tr>\n",
              "    <tr>\n",
              "      <th>Maryland</th>\n",
              "      <td>178</td>\n",
              "    </tr>\n",
              "    <tr>\n",
              "      <th>Colorado</th>\n",
              "      <td>177</td>\n",
              "    </tr>\n",
              "    <tr>\n",
              "      <th>New Jersey</th>\n",
              "      <td>177</td>\n",
              "    </tr>\n",
              "    <tr>\n",
              "      <th>Wisconsin</th>\n",
              "      <td>169</td>\n",
              "    </tr>\n",
              "    <tr>\n",
              "      <th>Oregon</th>\n",
              "      <td>168</td>\n",
              "    </tr>\n",
              "    <tr>\n",
              "      <th>Tennessee</th>\n",
              "      <td>166</td>\n",
              "    </tr>\n",
              "    <tr>\n",
              "      <th>Missouri</th>\n",
              "      <td>161</td>\n",
              "    </tr>\n",
              "    <tr>\n",
              "      <th>Iowa</th>\n",
              "      <td>156</td>\n",
              "    </tr>\n",
              "    <tr>\n",
              "      <th>Utah</th>\n",
              "      <td>146</td>\n",
              "    </tr>\n",
              "    <tr>\n",
              "      <th>Arizona</th>\n",
              "      <td>134</td>\n",
              "    </tr>\n",
              "    <tr>\n",
              "      <th>Kansas</th>\n",
              "      <td>133</td>\n",
              "    </tr>\n",
              "    <tr>\n",
              "      <th>Maine</th>\n",
              "      <td>128</td>\n",
              "    </tr>\n",
              "    <tr>\n",
              "      <th>Alabama</th>\n",
              "      <td>125</td>\n",
              "    </tr>\n",
              "    <tr>\n",
              "      <th>Arkansas</th>\n",
              "      <td>123</td>\n",
              "    </tr>\n",
              "    <tr>\n",
              "      <th>Idaho</th>\n",
              "      <td>114</td>\n",
              "    </tr>\n",
              "    <tr>\n",
              "      <th>South Carolina</th>\n",
              "      <td>105</td>\n",
              "    </tr>\n",
              "    <tr>\n",
              "      <th>Oklahoma</th>\n",
              "      <td>104</td>\n",
              "    </tr>\n",
              "    <tr>\n",
              "      <th>Louisiana</th>\n",
              "      <td>89</td>\n",
              "    </tr>\n",
              "    <tr>\n",
              "      <th>New Mexico</th>\n",
              "      <td>84</td>\n",
              "    </tr>\n",
              "    <tr>\n",
              "      <th>Kentucky</th>\n",
              "      <td>83</td>\n",
              "    </tr>\n",
              "    <tr>\n",
              "      <th>Connecticut</th>\n",
              "      <td>82</td>\n",
              "    </tr>\n",
              "    <tr>\n",
              "      <th>Mississippi</th>\n",
              "      <td>78</td>\n",
              "    </tr>\n",
              "    <tr>\n",
              "      <th>Nebraska</th>\n",
              "      <td>77</td>\n",
              "    </tr>\n",
              "    <tr>\n",
              "      <th>District of Columbia</th>\n",
              "      <td>68</td>\n",
              "    </tr>\n",
              "    <tr>\n",
              "      <th>Vermont</th>\n",
              "      <td>61</td>\n",
              "    </tr>\n",
              "    <tr>\n",
              "      <th>New Hampshire</th>\n",
              "      <td>54</td>\n",
              "    </tr>\n",
              "    <tr>\n",
              "      <th>Montana</th>\n",
              "      <td>49</td>\n",
              "    </tr>\n",
              "    <tr>\n",
              "      <th>West Virginia</th>\n",
              "      <td>43</td>\n",
              "    </tr>\n",
              "    <tr>\n",
              "      <th>Nevada</th>\n",
              "      <td>43</td>\n",
              "    </tr>\n",
              "    <tr>\n",
              "      <th>North Dakota</th>\n",
              "      <td>34</td>\n",
              "    </tr>\n",
              "    <tr>\n",
              "      <th>South Dakota</th>\n",
              "      <td>28</td>\n",
              "    </tr>\n",
              "    <tr>\n",
              "      <th>Wyoming</th>\n",
              "      <td>21</td>\n",
              "    </tr>\n",
              "    <tr>\n",
              "      <th>Rhode Island</th>\n",
              "      <td>20</td>\n",
              "    </tr>\n",
              "    <tr>\n",
              "      <th>Delaware</th>\n",
              "      <td>15</td>\n",
              "    </tr>\n",
              "  </tbody>\n",
              "</table>\n",
              "</div><br><label><b>dtype:</b> int64</label>"
            ]
          },
          "metadata": {},
          "execution_count": 58
        }
      ]
    },
    {
      "cell_type": "code",
      "source": [
        "dataset['State or Province'].value_counts()[:5]"
      ],
      "metadata": {
        "colab": {
          "base_uri": "https://localhost:8080/",
          "height": 272
        },
        "id": "d5iBZPgKROHs",
        "outputId": "1ebc5e03-3fa1-4452-8c8d-e47fbbc16e79"
      },
      "execution_count": 57,
      "outputs": [
        {
          "output_type": "execute_result",
          "data": {
            "text/plain": [
              "State or Province\n",
              "California    1021\n",
              "Texas          646\n",
              "Illinois       584\n",
              "New York       574\n",
              "Florida        522\n",
              "Name: count, dtype: int64"
            ],
            "text/html": [
              "<div>\n",
              "<style scoped>\n",
              "    .dataframe tbody tr th:only-of-type {\n",
              "        vertical-align: middle;\n",
              "    }\n",
              "\n",
              "    .dataframe tbody tr th {\n",
              "        vertical-align: top;\n",
              "    }\n",
              "\n",
              "    .dataframe thead th {\n",
              "        text-align: right;\n",
              "    }\n",
              "</style>\n",
              "<table border=\"1\" class=\"dataframe\">\n",
              "  <thead>\n",
              "    <tr style=\"text-align: right;\">\n",
              "      <th></th>\n",
              "      <th>count</th>\n",
              "    </tr>\n",
              "    <tr>\n",
              "      <th>State or Province</th>\n",
              "      <th></th>\n",
              "    </tr>\n",
              "  </thead>\n",
              "  <tbody>\n",
              "    <tr>\n",
              "      <th>California</th>\n",
              "      <td>1021</td>\n",
              "    </tr>\n",
              "    <tr>\n",
              "      <th>Texas</th>\n",
              "      <td>646</td>\n",
              "    </tr>\n",
              "    <tr>\n",
              "      <th>Illinois</th>\n",
              "      <td>584</td>\n",
              "    </tr>\n",
              "    <tr>\n",
              "      <th>New York</th>\n",
              "      <td>574</td>\n",
              "    </tr>\n",
              "    <tr>\n",
              "      <th>Florida</th>\n",
              "      <td>522</td>\n",
              "    </tr>\n",
              "  </tbody>\n",
              "</table>\n",
              "</div><br><label><b>dtype:</b> int64</label>"
            ]
          },
          "metadata": {},
          "execution_count": 57
        }
      ]
    },
    {
      "cell_type": "markdown",
      "source": [
        "Here we can see California has highest sales and Delaware has lowest sales."
      ],
      "metadata": {
        "id": "rPVxmeu8Sh3Q"
      }
    },
    {
      "cell_type": "markdown",
      "source": [
        "## Product Base Margin categorywise"
      ],
      "metadata": {
        "id": "5tsqLL5sTh2s"
      }
    },
    {
      "cell_type": "code",
      "source": [
        "plt.figure(figsize=(10,5))\n",
        "sns.barplot(x='Product Category',y='Product Base Margin',data=dataset,estimator='sum')\n",
        "plt.title('Product Base Margin by Category')\n",
        "plt.show()"
      ],
      "metadata": {
        "colab": {
          "base_uri": "https://localhost:8080/",
          "height": 487
        },
        "id": "JLJ9UFY1T-BA",
        "outputId": "7f01d387-362e-4a40-a9f7-6c103ec2819c"
      },
      "execution_count": 62,
      "outputs": [
        {
          "output_type": "display_data",
          "data": {
            "text/plain": [
              "<Figure size 1000x500 with 1 Axes>"
            ],
            "image/png": "[encoded data removed]"
          },
          "metadata": {}
        }
      ]
    },
    {
      "cell_type": "markdown",
      "source": [
        "## Conclusion : We Have analysed the given data and we can see Bussiness has to focus on Furniture segment and Marketing of products on several states whose sales counts are poor."
      ],
      "metadata": {
        "id": "vamczj8oWBOm"
      }
    },
    {
      "cell_type": "code",
      "source": [],
      "metadata": {
        "id": "77JnIO6kV9Ds"
      },
      "execution_count": null,
      "outputs": []
    }
  ]
}